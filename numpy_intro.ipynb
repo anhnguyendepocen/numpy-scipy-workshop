{
 "cells": [
  {
   "cell_type": "markdown",
   "metadata": {},
   "source": [
    "#  NumPy\n",
    "\n",
    "## Background\n",
    "\n",
    "NumPy is the fundamental package for scientific computing with Python. It contains among other things:\n",
    "- a powerful N-dimensional array object\n",
    "- fast, parallelized math functions\n",
    "- tools for integrating C/C++ and Fortran code\n",
    "- useful linear algebra, Fourier transform, and random number capabilities\n",
    "\n",
    "NumPy is the basis for the scientific computing and data science stacks in Python, including SciPy and Pandas.\n",
    "\n",
    "![NumPy and SciPy](https://github.com/nuitrcs/pythonworkshops/raw/master/dataanalysis/numpy/numpy-and-scipy.png)\n",
    "\n",
    "Website: [http://numpy.org](http://numpy.org/)\n",
    "\n",
    "Github repository: [https://github.com/numpy/numpy](https://github.com/numpy/numpy)\n",
    "\n",
    "Manual: https://docs.scipy.org/doc/numpy/index.html\n",
    "\n",
    "NumPy 1.0 was released in October 2006. The latest release, 1.13.3, was released September 30, 2017.\n"
   ]
  },
  {
   "cell_type": "markdown",
   "metadata": {
    "collapsed": true
   },
   "source": [
    "## Why not just use regular Python?\n",
    "\n",
    "After all, Python can do math with integers and floating point numbers, has a built in math and array packages, and fast and flexible container types:\n",
    "\n",
    "- Lists: cheap insert and append methods, can hold any type of data\n",
    "- Dictionaries: Mapping type with very fast lookup operations\n",
    "\n",
    "However, NumPy has an *extremely* efficient n-dimensional array implementation, and it has parallelized versions of the main Python math operations which can operate very quickly and efficiently on those arrays. This makes it very well suited to the kinds of vector and matrix operations that the SciPy stack builds on.\n",
    "\n",
    "Most of the time you won't be using NumPy directly but it is still good to understand how its core pieces work."
   ]
  },
  {
   "cell_type": "markdown",
   "metadata": {},
   "source": [
    "## Import `numpy`\n",
    "\n",
    "`numpy` is traditionally imported with the alias `np`"
   ]
  },
  {
   "cell_type": "code",
   "execution_count": null,
   "metadata": {
    "collapsed": true
   },
   "outputs": [],
   "source": [
    "import numpy as np"
   ]
  },
  {
   "cell_type": "markdown",
   "metadata": {},
   "source": [
    "## The basic type: `ndarray`\n",
    "\n",
    "The n-dimensional array (`ndarray`) is the fundamental data structure in NumPy. It is a table of elements, all of the same type, which can be indexed (that is, accessed) by a tuple of integers.\n"
   ]
  },
  {
   "cell_type": "markdown",
   "metadata": {},
   "source": [
    "Each element must be of the same type."
   ]
  },
  {
   "cell_type": "code",
   "execution_count": null,
   "metadata": {},
   "outputs": [],
   "source": [
    "intarray = np.array([1, 2, 3, 4])\n",
    "intarray.dtype"
   ]
  },
  {
   "cell_type": "code",
   "execution_count": null,
   "metadata": {},
   "outputs": [],
   "source": [
    "floatarray = np.array([1.0, 2.0, 3.0, 4.0])\n",
    "floatarray.dtype"
   ]
  },
  {
   "cell_type": "markdown",
   "metadata": {},
   "source": [
    "Numpy will try to coerce elements to the same datatype:"
   ]
  },
  {
   "cell_type": "code",
   "execution_count": null,
   "metadata": {},
   "outputs": [],
   "source": [
    "mixedarray = np.array([1, 2.0, 3, np.pi])\n",
    "mixedarray.dtype"
   ]
  },
  {
   "cell_type": "markdown",
   "metadata": {},
   "source": [
    "If you force it to coerce too much you end up with \"object\" as a dtype, which is not useful. Stick to numbers."
   ]
  },
  {
   "cell_type": "code",
   "execution_count": null,
   "metadata": {},
   "outputs": [],
   "source": [
    "dont_do_this = np.array([1, False, \"a string\", object()])\n",
    "dont_do_this.dtype"
   ]
  },
  {
   "cell_type": "markdown",
   "metadata": {},
   "source": [
    "You can specify the dtype when creating the ndarray, otherwise it will be inferred, defaulting to float64"
   ]
  },
  {
   "cell_type": "code",
   "execution_count": null,
   "metadata": {},
   "outputs": [],
   "source": [
    "floats = np.array([0, 1, 2], dtype=\"float64\")\n",
    "floats.dtype"
   ]
  },
  {
   "cell_type": "markdown",
   "metadata": {},
   "source": [
    "## Arrays have shapes and sizes\n",
    "\n",
    "The \"nd\" in `ndarray` means arrays can have any number of *dimensions*. An array has the following properties:\n",
    "- `ndim`: the number of axes. Also known as the *rank* of the array.\n",
    "- `shape`: the dimensions of the array. A tuple of integers indicating the size of the array in each dimension.\n",
    "- `size`: the number of elements in the array.\n"
   ]
  },
  {
   "cell_type": "code",
   "execution_count": null,
   "metadata": {},
   "outputs": [],
   "source": [
    "def describe_array(name, a):\n",
    "    print(name)\n",
    "    print(a)\n",
    "    print(\"Array ndim: \", a.ndim)\n",
    "    print(\"Array shape: \", a.shape)\n",
    "    print(\"Array size: \", a.size)\n",
    "    print()\n",
    "\n",
    "\n",
    "describe_array(\"1 row, 3 columns\", np.array([1, 2, 3]))\n",
    "describe_array(\"2 rows, 3 columns\", np.array([[1, 2, 3], [4, 5, 6]]))\n",
    "describe_array(\"3 rows, 2 columns\", np.array([[1, 2], [3, 4], [5, 6]]))\n",
    "describe_array(\"2 faces, 3 rows, 1 column\", np.array([[[1], [2], [3]], [[4], [5], [6]]]))"
   ]
  },
  {
   "cell_type": "markdown",
   "metadata": {},
   "source": [
    "Arrays can be reshaped after they are created:"
   ]
  },
  {
   "cell_type": "code",
   "execution_count": null,
   "metadata": {},
   "outputs": [],
   "source": [
    "a = np.array([1, 2, 3, 4, 5, 6])\n",
    "a"
   ]
  },
  {
   "cell_type": "code",
   "execution_count": null,
   "metadata": {},
   "outputs": [],
   "source": [
    "a.reshape(2, 3) # 2 rows, 3 columns"
   ]
  },
  {
   "cell_type": "markdown",
   "metadata": {},
   "source": [
    "## Creating Arrays\n",
    "\n",
    "There are several convenience functions for creating arrays.\n",
    "\n",
    "- `np.arange`: Create an array from a range of numbers\n",
    "- `np.zeros`: An array filled with zeroes\n",
    "- `np.ones`: An array filled with ones\n",
    "- `np.eye`: An identity matrix\n",
    "- [`np.random.*`](https://docs.scipy.org/doc/numpy-1.13.0/reference/routines.random.html): Arrays filled with random values from various distributions\n"
   ]
  },
  {
   "cell_type": "code",
   "execution_count": null,
   "metadata": {},
   "outputs": [],
   "source": [
    "# np.arange([start,], stop[, step])\n",
    "np.arange(10)"
   ]
  },
  {
   "cell_type": "code",
   "execution_count": null,
   "metadata": {},
   "outputs": [],
   "source": [
    "np.arange(100, 90, -1)"
   ]
  },
  {
   "cell_type": "code",
   "execution_count": null,
   "metadata": {},
   "outputs": [],
   "source": [
    "# np.zeros(shape) where `shape` is a tuple.\n",
    "# e.g. 1 row, 3 columns\n",
    "np.zeros((1, 3))"
   ]
  },
  {
   "cell_type": "code",
   "execution_count": null,
   "metadata": {},
   "outputs": [],
   "source": [
    "# or 2 faces, 5 rows, 2 columns\n",
    "np.zeros((2, 5, 2))"
   ]
  },
  {
   "cell_type": "code",
   "execution_count": null,
   "metadata": {},
   "outputs": [],
   "source": [
    "# np.eye(rows, columns=None, k=0)\n",
    "np.eye(4)"
   ]
  },
  {
   "cell_type": "code",
   "execution_count": null,
   "metadata": {},
   "outputs": [],
   "source": [
    "# np.random.randint(low, high, shape)\n",
    "np.random.randint(0, 10, (3, 3))"
   ]
  },
  {
   "cell_type": "code",
   "execution_count": null,
   "metadata": {},
   "outputs": [],
   "source": [
    "# np.random.normal(mean, stdev, shape)\n",
    "np.random.normal(0, 1, (4, 4))"
   ]
  },
  {
   "cell_type": "markdown",
   "metadata": {},
   "source": [
    "## Simple Arithmetic Operations on Arrays\n",
    "\n",
    "Buit-in python arithmetic operations work element-wise on arrays, like you would expect.\n",
    "\n",
    "NumPy also includes its own versions of many math operations as what it calls `ufunc`s, or universal functions. These offer high-speed, parallelized versions of basic operations.\n"
   ]
  },
  {
   "cell_type": "code",
   "execution_count": null,
   "metadata": {},
   "outputs": [],
   "source": [
    "a = np.arange(0, 10)\n",
    "print(a)"
   ]
  },
  {
   "cell_type": "code",
   "execution_count": null,
   "metadata": {},
   "outputs": [],
   "source": [
    "a + 10"
   ]
  },
  {
   "cell_type": "code",
   "execution_count": null,
   "metadata": {},
   "outputs": [],
   "source": [
    "a * 2"
   ]
  },
  {
   "cell_type": "markdown",
   "metadata": {},
   "source": [
    "### List vs. Array Performance\n",
    "\n",
    "It's easy to prove that for numeric operations, NumPy arrays vastly outperform lists.\n",
    "\n",
    "Let's create a python list and an array, each with 10 million integers."
   ]
  },
  {
   "cell_type": "code",
   "execution_count": null,
   "metadata": {
    "collapsed": true
   },
   "outputs": [],
   "source": [
    "big_list = list(range(10000000))\n",
    "big_array = np.arange(10000000)"
   ]
  },
  {
   "cell_type": "markdown",
   "metadata": {},
   "source": [
    "See how long it takes to get a new list containing the square of each element from `big_list`"
   ]
  },
  {
   "cell_type": "code",
   "execution_count": null,
   "metadata": {},
   "outputs": [],
   "source": [
    "%timeit big_list_squared = [i * i for i in big_list]"
   ]
  },
  {
   "cell_type": "markdown",
   "metadata": {},
   "source": [
    "See how long it takes to get a new array containing the square of each element from `big_array`"
   ]
  },
  {
   "cell_type": "code",
   "execution_count": null,
   "metadata": {},
   "outputs": [],
   "source": [
    "%timeit big_array_squared = big_array * big_array"
   ]
  },
  {
   "cell_type": "code",
   "execution_count": null,
   "metadata": {},
   "outputs": [],
   "source": [
    "import math\n",
    "%timeit big_list_sines = [math.sin(i) for i in big_list]"
   ]
  },
  {
   "cell_type": "markdown",
   "metadata": {},
   "source": [
    "NumPy `ufunc`s provide vectorized operations that go beyond simple arithmetic.\n",
    "\n",
    "`np.sin()` calculates the sine of each element in the passed-in array."
   ]
  },
  {
   "cell_type": "code",
   "execution_count": null,
   "metadata": {},
   "outputs": [],
   "source": [
    "%timeit big_array_sines = np.sin(big_array)"
   ]
  },
  {
   "cell_type": "markdown",
   "metadata": {},
   "source": [
    "And not only is the list slower, it also uses a more memory. Below is its size in mbytes."
   ]
  },
  {
   "cell_type": "code",
   "execution_count": null,
   "metadata": {},
   "outputs": [],
   "source": [
    "import sys\n",
    "sys.getsizeof(big_list) / 1024 / 1024"
   ]
  },
  {
   "cell_type": "markdown",
   "metadata": {},
   "source": [
    "vs. the size of the array in mbytes"
   ]
  },
  {
   "cell_type": "code",
   "execution_count": null,
   "metadata": {},
   "outputs": [],
   "source": [
    "sys.getsizeof(big_array) / 1024 / 1024"
   ]
  },
  {
   "cell_type": "markdown",
   "metadata": {},
   "source": [
    "Note there is a special function for the dot product, do not use the built-in `*` operator"
   ]
  },
  {
   "cell_type": "code",
   "execution_count": null,
   "metadata": {},
   "outputs": [],
   "source": [
    "a1 = np.arange(0, 9).reshape(3,3)\n",
    "a2 = np.arange(10, 19).reshape(3,3)\n",
    "print(\"a1:\", repr(a1))\n",
    "print()\n",
    "print(\"a2:\", repr(a2))"
   ]
  },
  {
   "cell_type": "markdown",
   "metadata": {},
   "source": [
    "The `*` operator performs element-wise multiplication"
   ]
  },
  {
   "cell_type": "code",
   "execution_count": null,
   "metadata": {},
   "outputs": [],
   "source": [
    "a1 * a2"
   ]
  },
  {
   "cell_type": "markdown",
   "metadata": {},
   "source": [
    "To get the dot product of a matrix and a vector:"
   ]
  },
  {
   "cell_type": "code",
   "execution_count": null,
   "metadata": {},
   "outputs": [],
   "source": [
    "a1.dot(a2[0])"
   ]
  },
  {
   "cell_type": "markdown",
   "metadata": {},
   "source": [
    "or the dot product of two matrices:"
   ]
  },
  {
   "cell_type": "code",
   "execution_count": null,
   "metadata": {},
   "outputs": [],
   "source": [
    "a1.dot(a2)"
   ]
  },
  {
   "cell_type": "markdown",
   "metadata": {},
   "source": [
    "Also a function for matrix multiplication:"
   ]
  },
  {
   "cell_type": "code",
   "execution_count": null,
   "metadata": {
    "scrolled": true
   },
   "outputs": [],
   "source": [
    "np.matmul(a1, a2)"
   ]
  },
  {
   "cell_type": "markdown",
   "metadata": {},
   "source": [
    "## Matrices\n",
    "\n",
    "NumPy actually does provide a special `ndarray` subclass called `matrix`. It is essentially a two-dimensional array with a few extra utility functions and custom operators.\n",
    "\n",
    "Notably, applying the built-in `*` operator to matrix objects results in the dot product."
   ]
  },
  {
   "cell_type": "code",
   "execution_count": null,
   "metadata": {
    "collapsed": true
   },
   "outputs": [],
   "source": [
    "m1 = np.matrix(a1)\n",
    "m2 = np.matrix(a2)"
   ]
  },
  {
   "cell_type": "code",
   "execution_count": null,
   "metadata": {},
   "outputs": [],
   "source": [
    "m1 * m2"
   ]
  },
  {
   "cell_type": "markdown",
   "metadata": {},
   "source": [
    "## Accessing Array Elements and Slicing\n",
    "\n",
    "Arrays can be sliced like so:\n",
    "    \n",
    "    array[lower:upper:step]\n",
    "\n",
    "The `upper` bound is never included in the result."
   ]
  },
  {
   "cell_type": "code",
   "execution_count": null,
   "metadata": {},
   "outputs": [],
   "source": [
    "a = np.array([10, 11, 12, 13, 14])\n",
    "a[1:3]"
   ]
  },
  {
   "cell_type": "markdown",
   "metadata": {},
   "source": [
    "Slicing a multidimensional array:"
   ]
  },
  {
   "cell_type": "code",
   "execution_count": null,
   "metadata": {},
   "outputs": [],
   "source": [
    "a = np.arange(9).reshape(3, 3)\n",
    "a"
   ]
  },
  {
   "cell_type": "markdown",
   "metadata": {},
   "source": [
    "To get a scalar element value, specify its location in all dimensions (here, just row and column):"
   ]
  },
  {
   "cell_type": "code",
   "execution_count": null,
   "metadata": {},
   "outputs": [],
   "source": [
    "a[1, 1]"
   ]
  },
  {
   "cell_type": "markdown",
   "metadata": {},
   "source": [
    "Retrieve an entire row by index:"
   ]
  },
  {
   "cell_type": "code",
   "execution_count": null,
   "metadata": {},
   "outputs": [],
   "source": [
    "a[0]"
   ]
  },
  {
   "cell_type": "markdown",
   "metadata": {},
   "source": [
    "Retrieve an entire column by index (note the slice syntax to get all rows, then the index to specify which column to extract from each row)."
   ]
  },
  {
   "cell_type": "code",
   "execution_count": null,
   "metadata": {},
   "outputs": [],
   "source": [
    "a[:, 0]"
   ]
  },
  {
   "cell_type": "markdown",
   "metadata": {},
   "source": [
    "To select a sub-matrix, use slice syntax to specify row and column locations.\n",
    "\n",
    "Here, we get the bottom-left corner of the matrix:"
   ]
  },
  {
   "cell_type": "code",
   "execution_count": null,
   "metadata": {},
   "outputs": [],
   "source": [
    "a[1:, :-1] # all rows starting with the second row, and all columns but the last one"
   ]
  },
  {
   "cell_type": "markdown",
   "metadata": {},
   "source": [
    "#### Array slices are \"views\", not copies\n",
    "\n",
    "That is, when you assign an array slice to a variable, and then change the data in the original array, the data in the variable (that is, the slice) changes as well."
   ]
  },
  {
   "cell_type": "markdown",
   "metadata": {},
   "source": [
    "Get a slice of `a`, in this case the entire first row, and assign it to a new variable `b`."
   ]
  },
  {
   "cell_type": "code",
   "execution_count": null,
   "metadata": {},
   "outputs": [],
   "source": [
    "a = np.arange(10)\n",
    "b = a[:]\n",
    "b"
   ]
  },
  {
   "cell_type": "markdown",
   "metadata": {},
   "source": [
    "Now let's change the last element from 9 to 90"
   ]
  },
  {
   "cell_type": "code",
   "execution_count": null,
   "metadata": {
    "collapsed": true
   },
   "outputs": [],
   "source": [
    "a[-1] = 90"
   ]
  },
  {
   "cell_type": "markdown",
   "metadata": {},
   "source": [
    "and we see that the value changes in the view as well:"
   ]
  },
  {
   "cell_type": "code",
   "execution_count": null,
   "metadata": {},
   "outputs": [],
   "source": [
    "b"
   ]
  },
  {
   "cell_type": "markdown",
   "metadata": {},
   "source": [
    "Changing `b` also changes `a`:"
   ]
  },
  {
   "cell_type": "code",
   "execution_count": null,
   "metadata": {},
   "outputs": [],
   "source": [
    "b[0] = 100\n",
    "a"
   ]
  },
  {
   "cell_type": "markdown",
   "metadata": {},
   "source": [
    "To get a copy of an array, use the `copy` method:"
   ]
  },
  {
   "cell_type": "code",
   "execution_count": null,
   "metadata": {},
   "outputs": [],
   "source": [
    "a = np.arange(10)\n",
    "b = a.copy()\n",
    "b"
   ]
  },
  {
   "cell_type": "markdown",
   "metadata": {},
   "source": [
    "Because we used `copy` to create array `b`, changing a value in `a` will not affect `b`:"
   ]
  },
  {
   "cell_type": "code",
   "execution_count": null,
   "metadata": {},
   "outputs": [],
   "source": [
    "a[-1] = 90\n",
    "b"
   ]
  },
  {
   "cell_type": "markdown",
   "metadata": {},
   "source": [
    "#### \"Fancy Indexing\"\n",
    "\n",
    "You can use boolean comparisons to select just the elements you want from an array."
   ]
  },
  {
   "cell_type": "markdown",
   "metadata": {},
   "source": [
    "Boolean comparisons to arrays produce a \"mask\" array: an array of the same shape filled with boolean values indicating whether the item at that position in the original array meets the boolean condition."
   ]
  },
  {
   "cell_type": "code",
   "execution_count": null,
   "metadata": {},
   "outputs": [],
   "source": [
    "a = np.random.randint(0, 10, (20))\n",
    "print(a)\n",
    "print(a > 5)"
   ]
  },
  {
   "cell_type": "markdown",
   "metadata": {},
   "source": [
    "We can now use that \"mask\" array (`a > 5`) to select elements from an array with the same shape.  For example, below will give us a new array with only the elements in `a` greater than 5.\n",
    "\n",
    "NB: in this case we get a copy of the original data, not a view like we would if we had sliced the array."
   ]
  },
  {
   "cell_type": "code",
   "execution_count": null,
   "metadata": {},
   "outputs": [],
   "source": [
    "a[a > 5]"
   ]
  },
  {
   "cell_type": "markdown",
   "metadata": {},
   "source": [
    "It's possible to chain multiple boolean tests together with the `&` (and) and `|` (or) operators (although the conditions must be in parentheses)."
   ]
  },
  {
   "cell_type": "code",
   "execution_count": null,
   "metadata": {},
   "outputs": [],
   "source": [
    "a[(a <= 2) | (a >= 8)]"
   ]
  },
  {
   "cell_type": "markdown",
   "metadata": {},
   "source": [
    "## Conditional Logic in Array Operations"
   ]
  },
  {
   "cell_type": "markdown",
   "metadata": {
    "collapsed": true
   },
   "source": [
    "The `np.where` function is a vectorized version of the expression:  `x if condition else y`:\n",
    "\n",
    "`np.where(if condition, x, y)`"
   ]
  },
  {
   "cell_type": "code",
   "execution_count": null,
   "metadata": {},
   "outputs": [],
   "source": [
    "arr=np.random.randn(4,4)\n",
    "np.where(arr > 0, 1, -1) # replace all positive with 1 all negative with -1"
   ]
  },
  {
   "cell_type": "code",
   "execution_count": null,
   "metadata": {},
   "outputs": [],
   "source": [
    "print(arr)\n",
    "np.where(arr > 0 , 1, arr) # replace all positive with 1"
   ]
  },
  {
   "cell_type": "markdown",
   "metadata": {},
   "source": [
    "## Application: Random Walk \n"
   ]
  },
  {
   "cell_type": "markdown",
   "metadata": {
    "collapsed": true
   },
   "source": [
    "1-D random walk problem starting from 0 with steps 1 and -1 occurring with equal probability"
   ]
  },
  {
   "cell_type": "code",
   "execution_count": null,
   "metadata": {
    "scrolled": true
   },
   "outputs": [],
   "source": [
    "nsteps=10000\n",
    "draws = np.random.randint(0,2,size=nsteps)\n",
    "print(draws[:10])\n",
    "steps=np.where(draws > 0, 1, -1) # 1s stay 1s, 0s become -1s\n",
    "steps[0] = 0 # start at origin\n",
    "print(steps[:10])\n",
    "walk=np.cumsum(steps) # cumulative sum (how far from 0 have you gotten at each step)\n",
    "(np.abs(walk) >= 10).argmax() # find first time we get 10 steps away from origin in either direction \n",
    "                                  # abs is absolute value\n",
    "                                  # mark which obs are 10 away\n",
    "                                  # then use argmax to find first index where value is true"
   ]
  },
  {
   "cell_type": "markdown",
   "metadata": {},
   "source": [
    "https://docs.scipy.org/doc/numpy/reference/generated/numpy.argmax.html"
   ]
  },
  {
   "cell_type": "markdown",
   "metadata": {},
   "source": [
    "## Transposition\n",
    "\n",
    "`ndarray` objects provide easy access to their transposed axes. That is, we can turn rows into columns and vice-versa."
   ]
  },
  {
   "cell_type": "code",
   "execution_count": null,
   "metadata": {},
   "outputs": [],
   "source": [
    "a = np.arange(18).reshape((2,3,3))\n",
    "a"
   ]
  },
  {
   "cell_type": "markdown",
   "metadata": {},
   "source": [
    "The `T` property of an ndarray provides easy access to the transpositions of all axes:"
   ]
  },
  {
   "cell_type": "code",
   "execution_count": null,
   "metadata": {},
   "outputs": [],
   "source": [
    "a.T"
   ]
  },
  {
   "cell_type": "markdown",
   "metadata": {},
   "source": [
    "The [`transpose`](https://docs.scipy.org/doc/numpy/reference/generated/numpy.transpose.html) method lets us transpose axes in a particular order:"
   ]
  },
  {
   "cell_type": "code",
   "execution_count": null,
   "metadata": {},
   "outputs": [],
   "source": [
    "a.transpose((0, 2, 1))"
   ]
  },
  {
   "cell_type": "markdown",
   "metadata": {},
   "source": [
    "## Vector Stacking and Combining.\n",
    "\n",
    "Combining arrays can be done multiple ways.\n",
    "\n",
    "\"Stacking\" means keeping the original arrays intact and adding new rows or columns on a new dimension.\n",
    "\n",
    "\"Concatenating\" means combining into a new array with the same dimensionality as the original arrays."
   ]
  },
  {
   "cell_type": "code",
   "execution_count": null,
   "metadata": {
    "collapsed": true
   },
   "outputs": [],
   "source": [
    "a1 = np.arange(3)\n",
    "a2 = np.arange(3, 6)"
   ]
  },
  {
   "cell_type": "markdown",
   "metadata": {},
   "source": [
    "Stack \"column-wise\". This can also be done via the deprecated `np.hstack` function."
   ]
  },
  {
   "cell_type": "code",
   "execution_count": null,
   "metadata": {},
   "outputs": [],
   "source": [
    "np.stack([a1, a2])"
   ]
  },
  {
   "cell_type": "markdown",
   "metadata": {},
   "source": [
    "Stack \"row-wise\", as the `np.vstack` function."
   ]
  },
  {
   "cell_type": "code",
   "execution_count": null,
   "metadata": {},
   "outputs": [],
   "source": [
    "np.stack([a1, a2], axis=1)"
   ]
  },
  {
   "cell_type": "code",
   "execution_count": null,
   "metadata": {},
   "outputs": [],
   "source": [
    "np.concatenate([a1, a2])"
   ]
  },
  {
   "cell_type": "markdown",
   "metadata": {},
   "source": [
    "## Loading (and saving) Data\n",
    "\n",
    "There are several built-in functions in NumPy to load data.\n",
    "\n",
    "- `fromfile`: fast and efficient loading of binary data (or simple text files)\n",
    "- `ndarray.tofile`: save the contents of an array to a data file (NOT PORTABLE!)\n",
    "- `save`: save an array in a portable format\n",
    "- `load`: load data from the portable `save` format\n",
    "- `loadtxt`: more flexible way of loading data from a text file\n",
    "- `savetxt`: save data to a text file, with custom formatting\n",
    "- `genfromtxt`: very flexible data loading, can handle missing/empty data\n"
   ]
  },
  {
   "cell_type": "markdown",
   "metadata": {},
   "source": [
    "### Get the data file"
   ]
  },
  {
   "cell_type": "markdown",
   "metadata": {},
   "source": [
    "I you haven't downloaded or cloned the entire repository from GitHub, get `data.csv` from https://raw.githubusercontent.com/nuitrcs/pythonworkshops/master/dataanalysis/numpy/data.csv\n",
    "\n",
    "In some systems, the below command will also download the file (but it may not work on all systems):"
   ]
  },
  {
   "cell_type": "code",
   "execution_count": null,
   "metadata": {
    "collapsed": true
   },
   "outputs": [],
   "source": [
    "!wget https://raw.githubusercontent.com/nuitrcs/pythonworkshops/master/dataanalysis/numpy/data.csv"
   ]
  },
  {
   "cell_type": "markdown",
   "metadata": {},
   "source": [
    "If the above didn't work, do:"
   ]
  },
  {
   "cell_type": "code",
   "execution_count": null,
   "metadata": {
    "collapsed": true
   },
   "outputs": [],
   "source": [
    "#import requests\n",
    "\n",
    "#response = requests.get(\"https://raw.githubusercontent.com/nuitrcs/pythonworkshops/master/dataanalysis/numpy/data.csv\")\n",
    "\n",
    "#with open('data.csv', 'w') as f:\n",
    "#    f.write(response.text)"
   ]
  },
  {
   "cell_type": "markdown",
   "metadata": {},
   "source": [
    "### Ways to read in the data"
   ]
  },
  {
   "cell_type": "code",
   "execution_count": null,
   "metadata": {},
   "outputs": [],
   "source": [
    "with open('data.csv') as f:\n",
    "    for row in f:\n",
    "        print(row)"
   ]
  },
  {
   "cell_type": "code",
   "execution_count": null,
   "metadata": {
    "collapsed": true
   },
   "outputs": [],
   "source": [
    "data = np.loadtxt(\"data.csv\", skiprows=1, delimiter=\",\")"
   ]
  },
  {
   "cell_type": "code",
   "execution_count": null,
   "metadata": {
    "scrolled": true
   },
   "outputs": [],
   "source": [
    "data"
   ]
  },
  {
   "cell_type": "code",
   "execution_count": null,
   "metadata": {},
   "outputs": [],
   "source": [
    "data.dtype"
   ]
  },
  {
   "cell_type": "markdown",
   "metadata": {},
   "source": [
    "By default, `genfromtxt` gives the same (two-dimensional) output."
   ]
  },
  {
   "cell_type": "code",
   "execution_count": null,
   "metadata": {
    "scrolled": true
   },
   "outputs": [],
   "source": [
    "np.genfromtxt(\"data.csv\", skip_header=1, delimiter=\",\")"
   ]
  },
  {
   "cell_type": "markdown",
   "metadata": {},
   "source": [
    "But if we specify `dtype=None` as an argument, it returns a one-dimensional array of \"structured\" arrays, where the data type for each element is determined automatically."
   ]
  },
  {
   "cell_type": "code",
   "execution_count": null,
   "metadata": {
    "scrolled": true
   },
   "outputs": [],
   "source": [
    "arr = np.genfromtxt(\"data.csv\", dtype=None, skip_header=1, delimiter=\",\")\n",
    "arr"
   ]
  },
  {
   "cell_type": "markdown",
   "metadata": {},
   "source": [
    "## Application: Working with polynomials \n",
    "\n",
    "Create a polynomial in the form: $y = 3*x^{2} + 2*x - 1$"
   ]
  },
  {
   "cell_type": "code",
   "execution_count": null,
   "metadata": {
    "collapsed": true
   },
   "outputs": [],
   "source": [
    "import matplotlib.pyplot as plt # to visualize the result"
   ]
  },
  {
   "cell_type": "code",
   "execution_count": null,
   "metadata": {
    "scrolled": true
   },
   "outputs": [],
   "source": [
    "p = np.poly1d([3, 2, -1]) # define the function\n",
    "print(p)\n",
    "\n",
    "print('Show the constant')\n",
    "print(p(0)) # evaluate function for x=0\n",
    "print('Print the roots of the polynomial')\n",
    "print(p.roots) # solving for the function = 0\n",
    "print('Print the order of the polynomial')\n",
    "print(p.order) # order is the highest exponent"
   ]
  },
  {
   "cell_type": "markdown",
   "metadata": {},
   "source": [
    "Create some data and fit a polynomial function to the data with [`polyfit`](https://docs.scipy.org/doc/numpy/reference/generated/numpy.polyfit.html), which fits a line with minimized squared error"
   ]
  },
  {
   "cell_type": "code",
   "execution_count": null,
   "metadata": {},
   "outputs": [],
   "source": [
    "print('Create some X-values')\n",
    "x = np.linspace(0, 1, 20)\n",
    "print('x values = ',x)\n",
    "print('Create random y values about a cosine curve')\n",
    "y = np.cos(x) + 0.3*np.random.rand(20)\n",
    "print('y values = ',y)\n",
    "print('Fit the data using polyfit and constuct a polynomial from the fit')\n",
    "p2 = np.poly1d(np.polyfit(x, y, 3)) # 3 is to specify the degree of the polynomial\n",
    "t = np.linspace(0, 1, 200) # x values for computing the fitted curve\n",
    "print('plot the data and the fit')\n",
    "plt.plot(x, y, 'o', # plot x and y generated random points with o marker\n",
    "         t, p2(t), '-') # plot t and p2(t) fitted values as a line\n",
    "plt.show()"
   ]
  },
  {
   "cell_type": "markdown",
   "metadata": {},
   "source": [
    "## Calculating Norms of Arrays\n",
    "\n",
    "The [norms](https://en.wikipedia.org/wiki/Matrix_norm) of `m` x `n` matrices are useful in matrix algebra. Typical applications include calculating the matrix trace or are part of SVD (single value decomposition) algorithms for matrix factorizations. A matrix factorization of a square matrix in the form $A =UDV^{T}$ can be used to calculate the inverse $A^{-1}=VD^{-1}U^{T}$.\n",
    "\n",
    "For reference: [Frobenius norm](https://en.wikipedia.org/wiki/Matrix_norm#Frobenius_norm)"
   ]
  },
  {
   "cell_type": "code",
   "execution_count": null,
   "metadata": {},
   "outputs": [],
   "source": [
    "A = np.array([[1,2],[3,4]])\n",
    "print(A)\n",
    "\n",
    "print(\"Norm of the array\", np.linalg.norm(A))\n",
    "print(\"Frobenius Norm is the default = \", np.linalg.norm(A, 'fro'))\n",
    "print(\"max(sum(abs(x), axis=0))=\", np.linalg.norm(A, 1)) # L1 norm (max column sum)\n",
    "print(\"min(sum(abs(x), axis=0))=\", np.linalg.norm(A, -1))\n",
    "print(\"max(abs(x))=\", np.linalg.norm(A, np.inf)) # L inf norm (max row sum)"
   ]
  },
  {
   "cell_type": "markdown",
   "metadata": {},
   "source": [
    "## Calculating the determinant \n",
    "\n",
    "Calculating the determinant of the matrix. If $M_{ij}$ is the determinant of a square matrix left by removing the $i^{th}$ row and $j^{th}$ column from array A then for any row i: $det(A)=\\sum_{j}(-1)^{i+j}a_{ij}M_{ij}$"
   ]
  },
  {
   "cell_type": "code",
   "execution_count": null,
   "metadata": {},
   "outputs": [],
   "source": [
    "A = np.array([[1,2,3],[3,4,6],[7,8,9]])\n",
    "print(A)\n",
    "determ=np.linalg.det(A)\n",
    "print(determ)"
   ]
  },
  {
   "cell_type": "markdown",
   "metadata": {},
   "source": [
    "## Solving a linear system of equations\n",
    "Solving a linear system of equations has a wide range of applications and can be used in obtaining solutions for sets of ordinary ordinary differential equations. An algebraic representation of the problem is: \n",
    "A * X = b, where A is square array containing the constant factors, X is a vector of indeterminate values and b are the constrains."
   ]
  },
  {
   "cell_type": "markdown",
   "metadata": {},
   "source": [
    "Solve the linear system \n",
    "\n",
    "$3x_1+x_2+2x_3=9$ \n",
    "\n",
    "$x_1+2x_2+x_3=8$ \n",
    "\n",
    "$2x_2-1x_3=2$"
   ]
  },
  {
   "cell_type": "code",
   "execution_count": null,
   "metadata": {},
   "outputs": [],
   "source": [
    "A = np.array([[3,1,2], [1,2,1], [0,2,-1]])\n",
    "b = np.array([9,8,2])\n",
    "x = np.linalg.solve(A, b)\n",
    "print(x)\n",
    "np.allclose(np.dot(A, x), b) #Returns True if two arrays are element-wise equal within a tolerance.\n"
   ]
  },
  {
   "cell_type": "markdown",
   "metadata": {},
   "source": [
    "## Array Transformations \n",
    "We will define a complex array and perform some common transformations to it"
   ]
  },
  {
   "cell_type": "code",
   "execution_count": null,
   "metadata": {
    "scrolled": true
   },
   "outputs": [],
   "source": [
    "# using the mat functions\n",
    "# make an array from for a list of lists\n",
    "\n",
    "A = np.mat([[3, 1, 4+0.1j], [1, 5-2j, 9], [2, 6+2j, 5]])\n",
    "print('Complex Array A')\n",
    "print(A)\n",
    "\n",
    "print(type(A), A.dtype, A.shape)\n"
   ]
  },
  {
   "cell_type": "markdown",
   "metadata": {},
   "source": [
    "## Common transformations for MATRIX class objects\n",
    ".T     transpose\n",
    "\n",
    ".H     Hermitian transpose (transpose with complex conjugate) A.H=transpose(A*)\n",
    "\n",
    ".I     matrix inverse\n",
    "\n",
    ".A     matrix as a basic ndarray\n",
    "\n",
    ".A1    matrix as a one-dimensional ndarray\n"
   ]
  },
  {
   "cell_type": "code",
   "execution_count": null,
   "metadata": {},
   "outputs": [],
   "source": [
    "A_tr=A.T\n",
    "A_H=A.H\n",
    "A_I=A.I\n",
    "A_A=A.A\n",
    "A_A1=A.A1\n",
    "\n",
    "print('Transpose of A=')\n",
    "print(A_tr)\n",
    "print('Hermitian of A=')\n",
    "print(A_H)\n",
    "print('Inverse of A=')\n",
    "print(A_I)\n",
    "print('Standard ndarray=')\n",
    "print(A_A)\n",
    "print('One dimestional array of A=')\n",
    "print(A_A1)"
   ]
  },
  {
   "cell_type": "code",
   "execution_count": null,
   "metadata": {},
   "outputs": [],
   "source": [
    "#Verify the inverse\n",
    "np.set_printoptions(precision = 2)\n",
    "Atest=A*A.I\n",
    "print(Atest)"
   ]
  },
  {
   "cell_type": "code",
   "execution_count": null,
   "metadata": {},
   "outputs": [],
   "source": [
    "#define a column vector\n",
    "\n",
    "b = np.mat('1; 2; 3')\n",
    "# matrix multiply by vector\n",
    "print('Vector b = ',b)\n",
    "#multiply square matrix by vector\n",
    "result=A*b\n",
    "print(\"A*b=\",result)\n",
    "# returns a row vector\n",
    "print('Compute b^T * A')\n",
    "row_vector=b.T*A\n",
    "print('Row vector = ', row_vector)\n",
    "\n",
    "#turn back to 1-D array\n",
    "\n",
    "one_d=(b.T*A).A1\n",
    "print('1D array of the row vector = ',one_d)"
   ]
  },
  {
   "cell_type": "markdown",
   "metadata": {},
   "source": [
    "## Solve A*x = b for x\n",
    "\n",
    "$A^{-1}A x = A{^-1} b \\Rightarrow I x = A^{-1} b \\Rightarrow  x = A^{-1} b$"
   ]
  },
  {
   "cell_type": "code",
   "execution_count": null,
   "metadata": {},
   "outputs": [],
   "source": [
    "np.set_printoptions(precision = 6)\n",
    "print(\"A = \",A)\n",
    "print(\"b = \",b)\n",
    "print('Solve as X=A^(-1)*b')\n",
    "x=A.I*b\n",
    "#solution x\n",
    "print(x)\n",
    "#verify\n",
    "res=A*x-b\n",
    "print('Residual = ',res)\n",
    "#alternative\n",
    "solution=np.linalg.solve(A, b)\n",
    "print('linalg solution = ',solution)\n"
   ]
  },
  {
   "cell_type": "markdown",
   "metadata": {},
   "source": [
    "## Least Squares with Numpy\n",
    "\n",
    "Assuming that data $y_i$ depend on data $x_i$ in the following form:\n",
    "\n",
    "$y_i=\\sum_jc_jf_j(x_i)+\\epsilon_{i}$\n",
    "\n",
    "where $\\epsilon_{i}$ represents uncertainty in the data. Using the least squares method, one seeks to pick coefficients $c_j$ that minimize:  \n",
    "\n",
    "$J(\\vec{c})=\\sum_i ∣y_i−\\sum_j c_j f_j(x_i)|^{2}$\n",
    "\n",
    "If $A_{ij}=f_j(x_i)$ then `linalg.lstsq` will solve for $\\vec{c}=(A^{H}A)^{-1}A^{H}\\vec{y}$. \n",
    "\n",
    "The fit can then be obtained as: $\\vec{y} = A \\vec{c} + \\vec{\\epsilon} $. \n",
    "\n",
    "In the example below we generate 10 values by randomizing the analytical form: $y_{i}= c_{1}*e^{-x_i}+c_{2}e^{x_i}$, for $x_i=0.1i$ for $i=1…10$ , $c_1=5$, and $c_2=4$\n",
    "\n",
    "Note: code from https://docs.scipy.org/doc/scipy/reference/tutorial/linalg.html"
   ]
  },
  {
   "cell_type": "code",
   "execution_count": null,
   "metadata": {
    "scrolled": true
   },
   "outputs": [],
   "source": [
    "i = 0.1*np.r_[1:11]\n",
    "#j=np.arange(1,11)\n",
    "#print(i,j)\n",
    "#A = np.c_[np.exp(-i)[:, np.newaxis], i[:, np.newaxis]]\n",
    "i.shape, i[:,np.newaxis].shape\n"
   ]
  },
  {
   "cell_type": "code",
   "execution_count": null,
   "metadata": {},
   "outputs": [],
   "source": [
    "import matplotlib.pyplot as plt\n",
    "\n",
    "c1, c2 = 5.0, 4.0\n",
    "i = np.r_[1:11]\n",
    "xi = 0.1*i\n",
    "yi = c1*np.exp(-xi) + c2*np.exp(-xi)\n",
    "zi = yi + 0.05 * np.max(yi) * np.random.randn(len(yi))\n",
    "A = np.c_[np.exp(-xi)[:, np.newaxis], np.exp(xi)[:, np.newaxis]]\n",
    "c, resid, rank, sigma = np.linalg.lstsq(A, zi) # solve using linalg.lsteq\n",
    "xi2 = np.r_[0.1:1.0:100j]\n",
    "yi2 = c[0]*np.exp(-xi2) + c[1]*np.exp(xi2)\n",
    "plt.plot(xi,zi,'x',xi2,yi2)\n",
    "#plt.axis([0,1.1,3.0,5.5])\n",
    "plt.xlabel('$x_i$')\n",
    "plt.title('Data fits')\n",
    "plt.show()"
   ]
  },
  {
   "cell_type": "markdown",
   "metadata": {},
   "source": [
    "## First order Ordinary Differential Equations\n",
    "\n",
    "Using numpy and the intergrate package from scipy one can easily solve ordinary differential equations with a variety of boundary or initial conditions. \n",
    "\n",
    "For example we solve here the equation: $\\frac{dy}{dx}+y=x$ under the condition y(0)=1. The particular differential equation has an analytical solution $y=x-1+2e^{-x}$ which we overplot."
   ]
  },
  {
   "cell_type": "code",
   "execution_count": null,
   "metadata": {
    "scrolled": false
   },
   "outputs": [],
   "source": [
    "import numpy as np\n",
    "from scipy.integrate import odeint\n",
    "import matplotlib.pyplot as plt\n",
    "\n",
    "# Define a function which calculates the derivative\n",
    "def dy_dx(y, x):\n",
    "    return x - y\n",
    "\n",
    "xs = np.linspace(0,5,100)\n",
    "y0 = 1.0\n",
    "ys = odeint(dy_dx, y0, xs)\n",
    "ys = np.array(ys).flatten()\n",
    "y_exact = xs - 1 + 2*np.exp(-xs)\n",
    "y_difference = ys - y_exact\n",
    "plt.plot(xs, ys, xs, y_exact, \"+\");\n",
    "plt.show()"
   ]
  },
  {
   "cell_type": "markdown",
   "metadata": {},
   "source": [
    "## Second order Ordinary Differential Equations\n",
    "\n",
    "Solve for y in $y″+2y′+2y=5cos(2x)$ if $y(0)=0$ and $y'(0)=0$\n",
    "\n",
    "Setting z=y′ we can convert the second order into a system of two first order differential equations as: \n",
    "\n",
    "y′=z\n",
    "\n",
    "z′=y″=-2z-2y+5cos(2x)\n",
    "\n",
    "where y(0)=0 and z(0)=0\n"
   ]
  },
  {
   "cell_type": "code",
   "execution_count": null,
   "metadata": {
    "scrolled": true
   },
   "outputs": [],
   "source": [
    "from scipy.integrate import odeint\n",
    "import matplotlib.pyplot as plt\n",
    "\n",
    "def dU_dx(U, x):\n",
    "    # Here U is a vector such that y=U[0] and z=U[1]. This function should return [y', z']\n",
    "    return [U[1], -2*U[1] - 2.*U[0] + 5.*np.cos(2*x)]\n",
    "U0 = [0, 0]\n",
    "xs = np.linspace(0, 10, 200)\n",
    "Us = odeint(dU_dx, U0, xs) # Same as before but instead of N scalars, the input is 2xN\n",
    "ys = Us[:,0]\n",
    "plt.plot(xs,ys)\n",
    "plt.xlabel(\"x\")\n",
    "plt.ylabel(\"y\")\n",
    "plt.title(\"Damped harmonic oscillator\");\n",
    "plt.show()\n"
   ]
  },
  {
   "cell_type": "markdown",
   "metadata": {},
   "source": [
    "## Eigenvalues and Eigenvectors\n",
    "\n",
    "\n",
    "An eigenvalue w of a matrix A has the property that there exists a vector (eigenvector) v for which: $\\textbf{A}*\\vec{v} = w*\\vec{v} \\Rightarrow (\\textbf{A}-w*\\textbf{I})\\vec{v}=0$\n",
    "\n",
    "\n",
    "Code from https://docs.scipy.org/doc/numpy/reference/generated/numpy.linalg.eig.html"
   ]
  },
  {
   "cell_type": "code",
   "execution_count": null,
   "metadata": {
    "scrolled": false
   },
   "outputs": [],
   "source": [
    "from numpy import linalg as LA\n",
    "\n",
    "\n",
    "A=np.array([[0, 1], [1, 0]])\n",
    "print(A)\n",
    "w, v = LA.eig(A)\n",
    "print(w)\n",
    "print(v)\n",
    "\n",
    "for i in range(0, 2):\n",
    "        print(np.dot(A[:,:], v[:,i])- w[i] * v[:,i])"
   ]
  },
  {
   "cell_type": "markdown",
   "metadata": {},
   "source": [
    "## Solving the Laplace Equation with numpy \n",
    "\n",
    "Using numpy we can solve the standard (2D) heat transfer equation $\\nabla^{2} T = \\frac{\\partial^{2}{T}}{\\partial{x}^{2}}+\\frac{\\partial^{2}{T}}{\\partial{y}^{2}}= 0$ on a square grid with Dirichlet boundary conditions."
   ]
  },
  {
   "cell_type": "code",
   "execution_count": null,
   "metadata": {
    "collapsed": true
   },
   "outputs": [],
   "source": [
    "import matplotlib.pyplot as plt\n",
    "\n",
    "# Set maximum iteration\n",
    "maxIter = 800\n",
    "\n",
    "# Set Dimension and delta\n",
    "lenX = lenY = 10 #we set it rectangular\n",
    "delta = 1\n",
    "\n",
    "# Boundary condition\n",
    "Ttop = 100\n",
    "Tbottom = 50\n",
    "Tleft = 100\n",
    "Tright = 100\n",
    "\n",
    "# Initial guess of interior grid\n",
    "Tguess = 20\n",
    "\n",
    "# Set colour interpolation and colour map\n",
    "colorinterpolation = 50\n",
    "colourMap = plt.cm.coolwarm \n",
    "\n",
    "# Set meshgrid\n",
    "X, Y = np.meshgrid(np.arange(0, lenX), np.arange(0, lenY))\n",
    "\n",
    "# Set array size and set the interior value with Tguess\n",
    "T = np.empty((lenX, lenY))\n",
    "T.fill(Tguess)\n",
    "\n",
    "# Set Boundary condition\n",
    "T[(lenY-1):, :] = Ttop\n",
    "T[:1, :] = Tbottom\n",
    "T[:, (lenX-1):] = Tright\n",
    "T[:, :1] = Tleft\n"
   ]
  },
  {
   "cell_type": "markdown",
   "metadata": {},
   "source": [
    "Discetize: \n",
    "$T_{i,j} = \\frac{1}{4}(T_{i+1,j}+T_{i-1,j}+T_{i,j+1}+T_{i,j-1})$"
   ]
  },
  {
   "cell_type": "code",
   "execution_count": null,
   "metadata": {},
   "outputs": [],
   "source": [
    "# Iterate \n",
    "for iteration in range(0, maxIter):\n",
    "    for i in range(1, lenX-1, delta):\n",
    "        for j in range(1, lenY-1, delta):\n",
    "            T[i, j] = 0.25 * (T[i+1][j] + T[i-1][j] + T[i][j+1] + T[i][j-1])\n",
    "\n",
    "# Configure the contour\n",
    "plt.title(\"Temperature\")\n",
    "plt.contourf(X, Y, T, colorinterpolation, cmap=colourMap)\n",
    "\n",
    "# Set Colorbar\n",
    "plt.colorbar()\n",
    "\n",
    "# Show the result in the plot window\n",
    "plt.show()\n"
   ]
  },
  {
   "cell_type": "code",
   "execution_count": null,
   "metadata": {
    "collapsed": true
   },
   "outputs": [],
   "source": []
  }
 ],
 "metadata": {
  "kernelspec": {
   "display_name": "Python 3",
   "language": "python",
   "name": "python3"
  },
  "language_info": {
   "codemirror_mode": {
    "name": "ipython",
    "version": 3
   },
   "file_extension": ".py",
   "mimetype": "text/x-python",
   "name": "python",
   "nbconvert_exporter": "python",
   "pygments_lexer": "ipython3",
   "version": "3.6.1"
  }
 },
 "nbformat": 4,
 "nbformat_minor": 2
}
