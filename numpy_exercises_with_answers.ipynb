{
 "cells": [
  {
   "cell_type": "markdown",
   "metadata": {
    "collapsed": true
   },
   "source": [
    "# NumPy Exercises\n",
    "----\n",
    "\n",
    "Several of these exercise where taken from https://github.com/rougier/numpy-100"
   ]
  },
  {
   "cell_type": "markdown",
   "metadata": {},
   "source": [
    "## Import\n",
    "\n",
    "Import numpy once at the beginning; also `matplotlib` as there are some exercises with plotting.\n"
   ]
  },
  {
   "cell_type": "code",
   "execution_count": 1,
   "metadata": {},
   "outputs": [],
   "source": [
    "import numpy as np\n",
    "import matplotlib.pyplot as plt\n",
    "\n",
    "# static graphs\n",
    "%matplotlib inline "
   ]
  },
  {
   "cell_type": "markdown",
   "metadata": {},
   "source": [
    "## Exercise: Creating Arrays\n",
    "\n",
    "A number of quick array creation exercises"
   ]
  },
  {
   "cell_type": "markdown",
   "metadata": {},
   "source": [
    "Create a null vector (all 0s) of size 10, except make the 6th value equal to 1."
   ]
  },
  {
   "cell_type": "code",
   "execution_count": 2,
   "metadata": {},
   "outputs": [
    {
     "name": "stdout",
     "output_type": "stream",
     "text": [
      "[ 0.  0.  0.  0.  0.  1.  0.  0.  0.  0.]\n"
     ]
    }
   ],
   "source": [
    "Z = np.zeros(10)\n",
    "Z[5] = 1\n",
    "print(Z)"
   ]
  },
  {
   "cell_type": "markdown",
   "metadata": {},
   "source": [
    "Create a vector (single dimension array) with values ranging from 5 to 30"
   ]
  },
  {
   "cell_type": "code",
   "execution_count": 3,
   "metadata": {},
   "outputs": [
    {
     "name": "stdout",
     "output_type": "stream",
     "text": [
      "[ 5  6  7  8  9 10 11 12 13 14 15 16 17 18 19 20 21 22 23 24 25 26 27 28 29\n",
      " 30]\n"
     ]
    }
   ],
   "source": [
    "Z = np.array(range(5,31))\n",
    "print(Z)"
   ]
  },
  {
   "cell_type": "markdown",
   "metadata": {},
   "source": [
    "Divide each element in the array you created above by 5"
   ]
  },
  {
   "cell_type": "code",
   "execution_count": 4,
   "metadata": {},
   "outputs": [
    {
     "name": "stdout",
     "output_type": "stream",
     "text": [
      "[ 1.   1.2  1.4  1.6  1.8  2.   2.2  2.4  2.6  2.8  3.   3.2  3.4  3.6  3.8\n",
      "  4.   4.2  4.4  4.6  4.8  5.   5.2  5.4  5.6  5.8  6. ]\n"
     ]
    }
   ],
   "source": [
    "Z=Z/5\n",
    "print(Z)"
   ]
  },
  {
   "cell_type": "markdown",
   "metadata": {},
   "source": [
    "Create an array of size 10 with random normal variables; hint: https://docs.scipy.org/doc/numpy/reference/generated/numpy.random.normal.html"
   ]
  },
  {
   "cell_type": "code",
   "execution_count": 5,
   "metadata": {},
   "outputs": [
    {
     "name": "stdout",
     "output_type": "stream",
     "text": [
      "[-2.38538683  0.05074061  0.48595659 -1.59098078 -1.11201165  2.20323515\n",
      "  0.1320472   0.11197642  0.34088102 -0.19461546]\n"
     ]
    }
   ],
   "source": [
    "Z = np.random.normal(size=10)\n",
    "print(Z)"
   ]
  },
  {
   "cell_type": "markdown",
   "metadata": {},
   "source": [
    "## Exercise: Get Information about an Array"
   ]
  },
  {
   "cell_type": "markdown",
   "metadata": {},
   "source": [
    "Write a function that accepts as an argument a numpy array - which is provided - and prints the array dimentions, the shape and the size. "
   ]
  },
  {
   "cell_type": "code",
   "execution_count": 6,
   "metadata": {},
   "outputs": [],
   "source": [
    "myarray = np.array([[0.1,0.2,0.3],[0.,0.3,0.05],[0.,0.4,0.01]])"
   ]
  },
  {
   "cell_type": "code",
   "execution_count": 7,
   "metadata": {},
   "outputs": [
    {
     "name": "stdout",
     "output_type": "stream",
     "text": [
      "Size:  9\n",
      "Dimensions:  2\n",
      "Shape:  (3, 3)\n"
     ]
    }
   ],
   "source": [
    "def array_info(a1):\n",
    "    print('Size: ', a1.size)\n",
    "    print('Dimensions: ', np.ndim(a1))\n",
    "    print('Shape: ', a1.shape)\n",
    "\n",
    "array_info(myarray)"
   ]
  },
  {
   "cell_type": "markdown",
   "metadata": {},
   "source": [
    "Then reshape the array to a 2D: 1x9 and 1D of 9 elements. Assign two different variables (a and b) to hold the new reshaped arrays, print the results with your function."
   ]
  },
  {
   "cell_type": "code",
   "execution_count": 8,
   "metadata": {},
   "outputs": [
    {
     "name": "stdout",
     "output_type": "stream",
     "text": [
      "Size:  9\n",
      "Dimensions:  2\n",
      "Shape:  (1, 9)\n",
      "Size:  9\n",
      "Dimensions:  1\n",
      "Shape:  (9,)\n"
     ]
    }
   ],
   "source": [
    "a=myarray.reshape((1,9))\n",
    "b=myarray.reshape((9))\n",
    "array_info(a)\n",
    "array_info(b)"
   ]
  },
  {
   "cell_type": "markdown",
   "metadata": {},
   "source": [
    "*Linear Algebra:* Calculate the determinant of `myarray` and print the value.  "
   ]
  },
  {
   "cell_type": "code",
   "execution_count": 9,
   "metadata": {},
   "outputs": [
    {
     "name": "stdout",
     "output_type": "stream",
     "text": [
      "-0.0017\n"
     ]
    }
   ],
   "source": [
    "dett=np.linalg.det(myarray)\n",
    "print(dett)"
   ]
  },
  {
   "cell_type": "markdown",
   "metadata": {},
   "source": [
    "## Exercise: Matrices\n",
    "\n",
    "Create a numpy array of 100 elements with values from 0.0 to 0.2 and reshape to a square 10x10 matrix. Hint: use the `arange` function\n",
    "\n",
    "*Linear Algebra*: Create an identity matrix of size 10x10 and verify that the matrix multiplication with the previously defined matrix results in the same matrix. Use both the `dot` and `matmul` functions for numpy arrays to check to make sure multiplying by the identify matrix gave you back the same original matrix. "
   ]
  },
  {
   "cell_type": "code",
   "execution_count": 10,
   "metadata": {},
   "outputs": [
    {
     "name": "stdout",
     "output_type": "stream",
     "text": [
      "[[ 0.     0.002  0.004  0.006  0.008  0.01   0.012  0.014  0.016  0.018]\n",
      " [ 0.02   0.022  0.024  0.026  0.028  0.03   0.032  0.034  0.036  0.038]\n",
      " [ 0.04   0.042  0.044  0.046  0.048  0.05   0.052  0.054  0.056  0.058]\n",
      " [ 0.06   0.062  0.064  0.066  0.068  0.07   0.072  0.074  0.076  0.078]\n",
      " [ 0.08   0.082  0.084  0.086  0.088  0.09   0.092  0.094  0.096  0.098]\n",
      " [ 0.1    0.102  0.104  0.106  0.108  0.11   0.112  0.114  0.116  0.118]\n",
      " [ 0.12   0.122  0.124  0.126  0.128  0.13   0.132  0.134  0.136  0.138]\n",
      " [ 0.14   0.142  0.144  0.146  0.148  0.15   0.152  0.154  0.156  0.158]\n",
      " [ 0.16   0.162  0.164  0.166  0.168  0.17   0.172  0.174  0.176  0.178]\n",
      " [ 0.18   0.182  0.184  0.186  0.188  0.19   0.192  0.194  0.196  0.198]]\n"
     ]
    }
   ],
   "source": [
    "a = np.arange(0,0.2,0.002).reshape(10,10)\n",
    "print(a)"
   ]
  },
  {
   "cell_type": "code",
   "execution_count": 11,
   "metadata": {},
   "outputs": [
    {
     "name": "stdout",
     "output_type": "stream",
     "text": [
      "[[ 0.  0.  0.  0.  0.  0.  0.  0.  0.  0.]\n",
      " [ 0.  0.  0.  0.  0.  0.  0.  0.  0.  0.]\n",
      " [ 0.  0.  0.  0.  0.  0.  0.  0.  0.  0.]\n",
      " [ 0.  0.  0.  0.  0.  0.  0.  0.  0.  0.]\n",
      " [ 0.  0.  0.  0.  0.  0.  0.  0.  0.  0.]\n",
      " [ 0.  0.  0.  0.  0.  0.  0.  0.  0.  0.]\n",
      " [ 0.  0.  0.  0.  0.  0.  0.  0.  0.  0.]\n",
      " [ 0.  0.  0.  0.  0.  0.  0.  0.  0.  0.]\n",
      " [ 0.  0.  0.  0.  0.  0.  0.  0.  0.  0.]\n",
      " [ 0.  0.  0.  0.  0.  0.  0.  0.  0.  0.]]\n",
      "[[ 0.  0.  0.  0.  0.  0.  0.  0.  0.  0.]\n",
      " [ 0.  0.  0.  0.  0.  0.  0.  0.  0.  0.]\n",
      " [ 0.  0.  0.  0.  0.  0.  0.  0.  0.  0.]\n",
      " [ 0.  0.  0.  0.  0.  0.  0.  0.  0.  0.]\n",
      " [ 0.  0.  0.  0.  0.  0.  0.  0.  0.  0.]\n",
      " [ 0.  0.  0.  0.  0.  0.  0.  0.  0.  0.]\n",
      " [ 0.  0.  0.  0.  0.  0.  0.  0.  0.  0.]\n",
      " [ 0.  0.  0.  0.  0.  0.  0.  0.  0.  0.]\n",
      " [ 0.  0.  0.  0.  0.  0.  0.  0.  0.  0.]\n",
      " [ 0.  0.  0.  0.  0.  0.  0.  0.  0.  0.]]\n",
      "[[ True  True  True  True  True  True  True  True  True  True]\n",
      " [ True  True  True  True  True  True  True  True  True  True]\n",
      " [ True  True  True  True  True  True  True  True  True  True]\n",
      " [ True  True  True  True  True  True  True  True  True  True]\n",
      " [ True  True  True  True  True  True  True  True  True  True]\n",
      " [ True  True  True  True  True  True  True  True  True  True]\n",
      " [ True  True  True  True  True  True  True  True  True  True]\n",
      " [ True  True  True  True  True  True  True  True  True  True]\n",
      " [ True  True  True  True  True  True  True  True  True  True]\n",
      " [ True  True  True  True  True  True  True  True  True  True]]\n",
      "[[ True  True  True  True  True  True  True  True  True  True]\n",
      " [ True  True  True  True  True  True  True  True  True  True]\n",
      " [ True  True  True  True  True  True  True  True  True  True]\n",
      " [ True  True  True  True  True  True  True  True  True  True]\n",
      " [ True  True  True  True  True  True  True  True  True  True]\n",
      " [ True  True  True  True  True  True  True  True  True  True]\n",
      " [ True  True  True  True  True  True  True  True  True  True]\n",
      " [ True  True  True  True  True  True  True  True  True  True]\n",
      " [ True  True  True  True  True  True  True  True  True  True]\n",
      " [ True  True  True  True  True  True  True  True  True  True]]\n"
     ]
    }
   ],
   "source": [
    "ide=np.eye(10,10)\n",
    "## check that result of multiplication = a by subtracting a\n",
    "print(np.matmul(a,ide)-a) \n",
    "print(a.dot(ide)-a)\n",
    "## or just check with ==\n",
    "print(np.matmul(a,ide)==a)\n",
    "print(a.dot(ide)==a)"
   ]
  },
  {
   "cell_type": "markdown",
   "metadata": {},
   "source": [
    "## Exercise: Find min and max\n",
    "\n",
    "Create a 10x10 array with random values and find the minimum and maximum values "
   ]
  },
  {
   "cell_type": "code",
   "execution_count": 12,
   "metadata": {},
   "outputs": [
    {
     "name": "stdout",
     "output_type": "stream",
     "text": [
      "0.011523088133 0.988557787484\n"
     ]
    }
   ],
   "source": [
    "Z = np.random.random((10,10))\n",
    "Zmin, Zmax = Z.min(), Z.max()\n",
    "print(Zmin, Zmax)"
   ]
  },
  {
   "cell_type": "markdown",
   "metadata": {},
   "source": [
    "## Exercise: Filling Matrices\n",
    "\n",
    "Create a 5x5 matrix with values 1,2,3,4 just below the diagonal.  Hint: look for a parameter to set with the `diag` function."
   ]
  },
  {
   "cell_type": "code",
   "execution_count": 13,
   "metadata": {},
   "outputs": [
    {
     "name": "stdout",
     "output_type": "stream",
     "text": [
      "[[0 0 0 0 0]\n",
      " [1 0 0 0 0]\n",
      " [0 2 0 0 0]\n",
      " [0 0 3 0 0]\n",
      " [0 0 0 4 0]]\n"
     ]
    }
   ],
   "source": [
    "Z = np.diag(1+np.arange(4),k=-1)\n",
    "print(Z)"
   ]
  },
  {
   "cell_type": "markdown",
   "metadata": {},
   "source": [
    "## Exercise: Adding a Border\n",
    "\n",
    "Create a 8x8 2D array of 1s, then add a border of 0s around it on all sides.  Hunt: look for a function that will help you do this."
   ]
  },
  {
   "cell_type": "code",
   "execution_count": 14,
   "metadata": {},
   "outputs": [
    {
     "name": "stdout",
     "output_type": "stream",
     "text": [
      "[[ 0.  0.  0.  0.  0.  0.  0.]\n",
      " [ 0.  1.  1.  1.  1.  1.  0.]\n",
      " [ 0.  1.  1.  1.  1.  1.  0.]\n",
      " [ 0.  1.  1.  1.  1.  1.  0.]\n",
      " [ 0.  1.  1.  1.  1.  1.  0.]\n",
      " [ 0.  1.  1.  1.  1.  1.  0.]\n",
      " [ 0.  0.  0.  0.  0.  0.  0.]]\n"
     ]
    }
   ],
   "source": [
    "Z = np.ones((5,5))\n",
    "Z = np.pad(Z, pad_width=1, mode='constant', constant_values=0)\n",
    "print(Z)"
   ]
  },
  {
   "cell_type": "markdown",
   "metadata": {},
   "source": [
    "## Exercise: Changing Array Values\n",
    "\n",
    "Create a 1D array with values 0 to 10.  Negate (make negative) all elements which are between 3 and 8, in place."
   ]
  },
  {
   "cell_type": "code",
   "execution_count": 15,
   "metadata": {},
   "outputs": [
    {
     "name": "stdout",
     "output_type": "stream",
     "text": [
      "[ 0  1  2  3 -4 -5 -6 -7 -8  9 10]\n"
     ]
    }
   ],
   "source": [
    "Z = np.arange(11)\n",
    "Z[(3 < Z) & (Z <= 8)] *= -1\n",
    "print(Z)"
   ]
  },
  {
   "cell_type": "markdown",
   "metadata": {},
   "source": [
    "## Exercise: Dates\n",
    "\n",
    "NumPy can handle dates.  Get the date for today, yesterday, and tomorrow.  Hint: https://docs.scipy.org/doc/numpy/reference/arrays.datetime.html"
   ]
  },
  {
   "cell_type": "code",
   "execution_count": 16,
   "metadata": {},
   "outputs": [
    {
     "name": "stdout",
     "output_type": "stream",
     "text": [
      "2017-08-01 2017-08-02 2017-08-03\n"
     ]
    }
   ],
   "source": [
    "yesterday = np.datetime64('today', 'D') - np.timedelta64(1, 'D')\n",
    "today     = np.datetime64('today', 'D')\n",
    "tomorrow  = np.datetime64('today', 'D') + np.timedelta64(1, 'D')\n",
    "print(yesterday, today, tomorrow)"
   ]
  },
  {
   "cell_type": "markdown",
   "metadata": {},
   "source": [
    "## Exercise: Normalizing Values\n",
    "\n",
    "Create a 10x10 array of random values.  Normalize the values by row by subtracting the row mean and dividing by the row standard deviation."
   ]
  },
  {
   "cell_type": "code",
   "execution_count": 17,
   "metadata": {},
   "outputs": [
    {
     "name": "stdout",
     "output_type": "stream",
     "text": [
      "[  3.88578059e-17   3.99680289e-16   2.77555756e-16   8.88178420e-17\n",
      "   3.60822483e-17   1.99840144e-16  -1.55431223e-16   1.11022302e-17\n",
      "  -3.55271368e-16  -1.88737914e-16]\n"
     ]
    }
   ],
   "source": [
    "Z = np.random.rand(10,10)\n",
    "zmean = Z.mean(axis=1, keepdims=True)\n",
    "zstd = Z.std(axis=1, keepdims=True)\n",
    "Z = (Z-zmean)/zstd\n",
    "\n",
    "## check -- should be essentially 0s\n",
    "print(Z.mean(axis=1))"
   ]
  },
  {
   "cell_type": "markdown",
   "metadata": {},
   "source": [
    "## Exercise: OLS Regression\n",
    "\n",
    "*You may be able to do parts of this without knowing linear algebra, but this is fundamentally about linear algebra operations.*\n",
    "\n",
    "Calculate a ordinary least squares regression with linear algebra, then use NumPy's function to check.\n",
    "\n",
    "Create the data:\n",
    "\n",
    "1) Create a 1D array, `y` of 100 random values.\n",
    "\n",
    "2) Create a 2D array, `X`, that is 100x3, initially filled with 1s.\n",
    "\n",
    "3) Set the 2nd column of `X` to be `2 * y + 0.1 * random noise`\n",
    "\n",
    "4) Set the 3rd column of `X` to be  `-3 * y + 0.2 * random noise`\n",
    "\n",
    "Compute the regression coefficients ($\\beta$).  Remember: $\\hat\\beta = (X^T X)^{-1} X^T y$\n",
    "\n",
    "Compare the $\\beta$ you computed to the output of `numpy.linalg.lstsq`.\n"
   ]
  },
  {
   "cell_type": "code",
   "execution_count": 18,
   "metadata": {},
   "outputs": [
    {
     "name": "stdout",
     "output_type": "stream",
     "text": [
      "[-0.00923058  0.3220971  -0.1188986 ]\n",
      "[-0.00923058  0.3220971  -0.1188986 ]\n"
     ]
    }
   ],
   "source": [
    "y = np.random.rand(100)\n",
    "X = np.ones((100,3))\n",
    "X[:,1] = 2*y + 0.1*np.random.rand(100)\n",
    "X[:,2] = -3*y + 0.2*np.random.rand(100)\n",
    "beta = np.matmul(np.matmul(np.linalg.inv(np.matmul(X.T, X)), X.T), y)\n",
    "print(beta)\n",
    "print(np.linalg.lstsq(X,y)[0])"
   ]
  },
  {
   "cell_type": "markdown",
   "metadata": {},
   "source": [
    "## Challenging Exercise: 2D Random Walk\n",
    "\n",
    "Create a random walk in 2D with equal probability with steps of 1 and -1 along each direction.  The objective is to determine at what point the distance traveled exceeds a threshold  (\"first crossing distance\").\n",
    "\n",
    "Suggested steps: \n",
    "* Define number of steps of 1000\n",
    "* Create an integer random array of draws between 0 and 1 of shape 100x100 and name it `draws`\n",
    "* Use the `where` function to set the values of the array to 1 if the original array value is > 0 otherwise -1 : Name that new array: `steps`\n",
    "* Set the (0,0) element of `draws` to 0 \n",
    "* Calculate the cumulative sum of steps along the 0-axis (across rows) and the cumulative sum along the 1-axis (across columns). Each operation will result to an array of the same shape as steps\n",
    "* Calculate the 2D array of walks by adding the squares of the two cumulative sums and then take the square root (square each matrix, add them, take the square root of the result). Name the 2D array of walks as `walk`\n",
    "* Verify that the shape of the `walk` array is the same as the `draws` array \n",
    "[This is verification is just a check because we need to create a 2D array of walk. If we forget to specify the axis in the cumulative sum, the output would be a 1D array. ]\n",
    "\n",
    "Once we have the walk array populated, we set up a critical value in the distance traveled. We then seek to identify the cells above that critical value and select the first occurance where the condition is satisfied. \n",
    "\n",
    "To do that, we find the list of indices along the rows (axis=0) where the condition: walk >= 10 (first crossing distance) is first satisfied using `argmax(axis=0)` method on the booleen array `walk >=10`. The `.argmax(axis=0)` method will return the index of the first occurence.\n",
    "\n",
    "Name the output `ii`\n",
    "\n",
    "Repeat for the list of indices along the columns (axis=1) and name output `jj`\n",
    "\n",
    "The value of the first crossing distance is equal `walk[ii[0],jj[0]]`\n",
    "\n",
    "You may contour plot the walk 2D array by importing the `matplotlib` package and use [`countourf`](https://matplotlib.org/api/_as_gen/matplotlib.axes.Axes.contourf.html) routine. Do not specify any axes, so you would be contour plotting the values of the array against the indices of the array elements.\n",
    "\n",
    "Set colourMap = plt.cm.coolwarm for the color table. When you run: \n",
    "plt.show(), the contour plot will show a 2D map of the walk array values, where blue cells have low walk value, and red high walk values. The `ii` index runs from the point of origin upwards and the `jj` index runs from the point of origin rightwards. Therefore you would be able to visually see which red dot roughly corresponds to the location of first crossing distance."
   ]
  },
  {
   "cell_type": "code",
   "execution_count": 19,
   "metadata": {},
   "outputs": [
    {
     "name": "stdout",
     "output_type": "stream",
     "text": [
      "(10000,)\n",
      "(100, 100)\n",
      "23 0\n",
      "10.0498756211\n"
     ]
    },
    {
     "data": {
      "image/png": "[encoded data removed]",
      "text/plain": [
       "<matplotlib.figure.Figure at 0x1186c1320>"
      ]
     },
     "metadata": {},
     "output_type": "display_data"
    }
   ],
   "source": [
    "nsteps=10000\n",
    "draws =np.random.randint(0,2,size=nsteps).reshape(100,100)\n",
    "draws[0][0]=0\n",
    "steps=np.where(draws >0, 1, -1)\n",
    "print(np.cumsum(steps).shape)\n",
    "walk=np.sqrt(np.cumsum(steps,axis=0)**2+np.cumsum(steps,axis=1)**2)\n",
    "print(walk.shape)\n",
    "ii=(walk >= 10 ).argmax(axis=0)\n",
    "jj=(walk >= 10 ).argmax(axis=1)\n",
    "print(ii[0],jj[0])\n",
    "print(walk[ii[0],jj[0]])\n",
    "\n",
    "levels = 50 # The number of contours to use\n",
    "colourMap = plt.cm.coolwarm\n",
    "plt.contourf(walk,levels, cmap=colourMap)\n",
    "plt.show()"
   ]
  },
  {
   "cell_type": "markdown",
   "metadata": {},
   "source": [
    "## Exercise: Working with Matrices\n",
    "\n",
    "Define two square matrices of 10x10. One with values from 0.0 to 1 (step is 0.01) and another with values from 1 to 101 (step is 1) Hint: You can use the `matrix` routine to convert the array to a matrix after you construct a `numpy` array of 100 elements with `arange` and `reshape`. \n",
    "\n",
    "a) Write a function that accepts as input an array (2D) and calculates the sum of the elements in the diagonal. Verify the results by comparing with the output from the trace attribute of a matrix. Hint: `np.trace(*square matrix*)` -> outputs the sum of all of the elements in the diagonal. Check your function on the two matrices you created.\n",
    "\n",
    "b) Write a function that accepts as an input an array (2D) calculates the average values of all the elements. You can use the sum attribute and divide by the total number of elements. Hint: `np.sum(*matrix*)` -> outputs the sum of all the elements in the matrix and `np.size(*matrix*)` -> prints the total number of elements.  Check this function on the two matrices you created.\n",
    "\n",
    "c) From the output of second function, calculate how many elements are above or below/equal the average value. You can use the `count_nonzero` attribute as: `np.count_nonzero(*matrix* > *average*)` to calculate the number of elements greater than the average value. To find the number of elements that are less or equal to the average value you can subtract from the total number of elements (100) the number of elements that have values greater than the average."
   ]
  },
  {
   "cell_type": "code",
   "execution_count": 20,
   "metadata": {},
   "outputs": [
    {
     "name": "stdout",
     "output_type": "stream",
     "text": [
      "4.95 4.95\n",
      "505 505\n",
      "0.495\n",
      "50.5\n",
      "50 50\n",
      "50 50\n"
     ]
    }
   ],
   "source": [
    "a=np.arange(0,1,0.01).reshape(10,10)\n",
    "a=np.matrix(a)\n",
    "b=np.arange(1,101,1).reshape(10,10)\n",
    "b=np.matrix(b)\n",
    "\n",
    "def sumarr(inarray):\n",
    "    return np.diag(inarray).sum()\n",
    "\n",
    "def avearr(inarray):\n",
    "    return np.sum(inarray)/np.size(inarray)\n",
    "\n",
    "print(sumarr(a),np.trace(a)) # two values should be the same\n",
    "print(sumarr(b),np.trace(b)) # two values should be the same\n",
    "\n",
    "mean_a=avearr(a)\n",
    "mean_b=avearr(b)\n",
    "print(mean_a)\n",
    "print(mean_b)\n",
    "\n",
    "y=np.count_nonzero(a > mean_a)\n",
    "z=np.count_nonzero(b > mean_b)\n",
    "print(y,np.size(a)-y)\n",
    "print(z,np.size(b)-z)\n"
   ]
  },
  {
   "cell_type": "markdown",
   "metadata": {},
   "source": [
    "## Exercise: Fit a Polynomial\n",
    "\n",
    "Load file [`input.dat`](https://github.com/nuitrcs/pythonworkshops/raw/master/dataanalysis/numpy/input.dat) using the `loadtxt` routine to a variable with the name `data`. It will contain a two column tabulated data of x and y. Use the `polyfit` routine to fit the data to a 3rd degree polynomial and plot the data and the fit using 200 points (hint: use `linspace`). Calculate and print the roots of the fit. \n",
    "\n",
    "Note: we'll cover `matplotlib` in another section; for now, use the example from the presentation/lecture materials as a guide."
   ]
  },
  {
   "cell_type": "code",
   "execution_count": 21,
   "metadata": {
    "scrolled": true
   },
   "outputs": [
    {
     "data": {
      "image/png": "[encoded data removed]",
      "text/plain": [
       "<matplotlib.figure.Figure at 0x119181978>"
      ]
     },
     "metadata": {},
     "output_type": "display_data"
    },
    {
     "name": "stdout",
     "output_type": "stream",
     "text": [
      "[ 1.20586488+0.36327909j  1.20586488-0.36327909j -0.03488942+0.482823j\n",
      " -0.03488942-0.482823j  ]\n"
     ]
    }
   ],
   "source": [
    "data = np.loadtxt(\"input.dat\", delimiter=' ')\n",
    "x = data[:,0]\n",
    "y = data[:,1]\n",
    "\n",
    "# Fit the data using polyfit and constuct a 3rd degree polynomial from the fit\n",
    "p = np.poly1d(np.polyfit(x, y, 4)) \n",
    "t = np.linspace(0, 1, 200) # make x values for fitted\n",
    "\n",
    "# plot the data and the fit\n",
    "plt.plot(x, y, 'o', t, p(t), '-')\n",
    "plt.show()\n",
    "print(p.roots)"
   ]
  },
  {
   "cell_type": "markdown",
   "metadata": {},
   "source": [
    "## Exercise: Least-squares fit\n",
    "\n",
    "For this exercise please refer to the example from the presentation labeled `Least Squares with Numpy` and your work in `Exercise: OLS Regression` in this notebook.\n",
    "\n",
    "Write a python code that, for 10 x values $ 0.2 \\le x_i \\le 2\\pi $ produces y values randomly perturbed around the curve $y_{i}= 0.5cos(x_{i})+3sin(5x_{i})$ by adding to the value of the function 0.05 * a draw from a random normal distribution.\n",
    "\n",
    "We seek a fit through this random set of data. We know that the fit will  have the form of $y=c_{1}*cos(x_{i})+c_{2}*sin(5x_{i})$. The objective is to calculate the constants. To do that, we need to construct the following 10x2 array:\n",
    "\n",
    "`A = [ [cos(x[0]),sin(x[0])] `\n",
    "\n",
    "      [cos(x[1]),sin(x[1])]\n",
    "      \n",
    "      ..................\n",
    "      \n",
    "      [cos(x[10]),sin(x[10]) ] \n",
    "      \n",
    "\n",
    "Then fit the data using numpy's least squares submodule `linalg.lstsq`. The lstsq routine accepts two arguments: Array A and the 1D array with contains the perturbed values, e.g. zi. It will return 4 outputs. You can name them: c, resid, rank, sigma. For example the call to the lstsq routine may have the form:\n",
    "\n",
    "c, resid, rank, sigma = np.linalg.lstsq(A, zi)\n",
    "\n",
    "Array c is a 2 element array that contains the constants we seek, $c_{1}$ and $c_{2}$. You can then create a large number of points between x[0] and x[10] and plot the fit against those values For example:\n",
    "\n",
    "`x2 = np.arange(x[0],x[10],0.01)\n",
    "y2 = c[0]*np.cos(x2) + c[1]*np.sin(5*x2)`\n",
    "\n",
    "Note: we'll cover `matplotlib` in another section; for now, use the example from the presentation/lecture materials as a guide or skip the plotting part."
   ]
  },
  {
   "cell_type": "code",
   "execution_count": 22,
   "metadata": {},
   "outputs": [
    {
     "name": "stdout",
     "output_type": "stream",
     "text": [
      "(10, 1) (10,)\n"
     ]
    },
    {
     "data": {
      "image/png": "[encoded data removed]",
      "text/plain": [
       "<matplotlib.figure.Figure at 0x119237390>"
      ]
     },
     "metadata": {},
     "output_type": "display_data"
    }
   ],
   "source": [
    "c1, c2 = 0.5, 3.0 # coefficients\n",
    "i = np.arange(1,11) # 10 values\n",
    "xi = 0.2* np.pi * i # convert to range specified \n",
    "yi = c1*np.cos(xi) + c2*np.sin(5*xi) # define core function\n",
    "zi = yi + 0.05 * np.random.randn(len(yi)) # add random variance\n",
    "\n",
    "print(zi[:,np.newaxis].shape,i[:].shape)\n",
    "A = np.c_[np.cos(xi)[:, np.newaxis], np.sin(0.5*xi)[:, np.newaxis]]\n",
    "#print(A)\n",
    "c, resid, rank, sigma = np.linalg.lstsq(A, zi) # solve using linalg.lsteq\n",
    "#print(c)\n",
    "#xi2 = np.r_[xi[0]:max(xi):100j]\n",
    "#print(xi2)\n",
    "xi2 = np.arange(xi[0],max(xi),0.01)\n",
    "yi2 = c[0]*np.cos(xi2) + c[1]*np.sin(5*xi2)\n",
    "\n",
    "plt.plot(xi,zi,'x',xi2,yi2)\n",
    "plt.xlabel('$x_i$')\n",
    "plt.title('Data fits')\n",
    "plt.show()"
   ]
  },
  {
   "cell_type": "markdown",
   "metadata": {},
   "source": [
    "## Exercise: Explore Normal Distribution\n",
    "\n",
    "Use the `random.randn` routine from numpy to create a standard normal distribution array of 4000 values.\n",
    "\n",
    "Use the `histogram` routine from numpy with number of bins equal to 100. \n",
    "\n",
    "The `histogram` routine will return a tuple of two arrays. The first tuple element is the histogram values (100 values) and second is the bin edges of each interval - 101 points. \n",
    "\n",
    "Calculate a numpy array of the middle points for each bin. Plot the `histogram` values against the array of middle points. "
   ]
  },
  {
   "cell_type": "code",
   "execution_count": 23,
   "metadata": {},
   "outputs": [
    {
     "name": "stdout",
     "output_type": "stream",
     "text": [
      "(array([  1,   0,   0,   0,   0,   1,   0,   0,   2,   0,   1,   0,   2,\n",
      "         2,   0,   1,   3,   2,   5,   2,   3,   4,  10,  14,  11,  11,\n",
      "        13,  27,  23,  19,  21,  24,  35,  35,  34,  48,  49,  49,  61,\n",
      "        63,  64,  86,  89, 101,  92, 107,  85, 103, 105, 125, 108, 112,\n",
      "        94, 115, 127, 122, 123, 125, 100, 118,  98, 112,  89,  96,  89,\n",
      "        81,  89,  79,  72,  71,  47,  35,  52,  53,  31,  35,  23,  22,\n",
      "        28,  13,  12,  20,  11,  11,   8,   7,   5,   7,   5,   6,   1,\n",
      "         2,   3,   0,   3,   1,   4,   0,   0,   2]), array([-4.03213625, -3.95767935, -3.88322245, -3.80876555, -3.73430864,\n",
      "       -3.65985174, -3.58539484, -3.51093794, -3.43648104, -3.36202413,\n",
      "       -3.28756723, -3.21311033, -3.13865343, -3.06419653, -2.98973962,\n",
      "       -2.91528272, -2.84082582, -2.76636892, -2.69191201, -2.61745511,\n",
      "       -2.54299821, -2.46854131, -2.39408441, -2.3196275 , -2.2451706 ,\n",
      "       -2.1707137 , -2.0962568 , -2.0217999 , -1.94734299, -1.87288609,\n",
      "       -1.79842919, -1.72397229, -1.64951538, -1.57505848, -1.50060158,\n",
      "       -1.42614468, -1.35168778, -1.27723087, -1.20277397, -1.12831707,\n",
      "       -1.05386017, -0.97940327, -0.90494636, -0.83048946, -0.75603256,\n",
      "       -0.68157566, -0.60711875, -0.53266185, -0.45820495, -0.38374805,\n",
      "       -0.30929115, -0.23483424, -0.16037734, -0.08592044, -0.01146354,\n",
      "        0.06299337,  0.13745027,  0.21190717,  0.28636407,  0.36082097,\n",
      "        0.43527788,  0.50973478,  0.58419168,  0.65864858,  0.73310548,\n",
      "        0.80756239,  0.88201929,  0.95647619,  1.03093309,  1.10539   ,\n",
      "        1.1798469 ,  1.2543038 ,  1.3287607 ,  1.4032176 ,  1.47767451,\n",
      "        1.55213141,  1.62658831,  1.70104521,  1.77550211,  1.84995902,\n",
      "        1.92441592,  1.99887282,  2.07332972,  2.14778663,  2.22224353,\n",
      "        2.29670043,  2.37115733,  2.44561423,  2.52007114,  2.59452804,\n",
      "        2.66898494,  2.74344184,  2.81789874,  2.89235565,  2.96681255,\n",
      "        3.04126945,  3.11572635,  3.19018326,  3.26464016,  3.33909706,\n",
      "        3.41355396]))\n"
     ]
    }
   ],
   "source": [
    "dfl= np.random.randn(4000)\n",
    "bins=100\n",
    "dhist=np.histogram(dfl,bins)\n",
    "print(dhist)\n",
    "dhisty=dhist[0] # first tuple element\n",
    "dhistx=dhist[1] # second tuple element\n",
    "xx=0.5*(dhistx[1:bins+1]+dhistx[0:bins]) # midpoints"
   ]
  },
  {
   "cell_type": "code",
   "execution_count": 24,
   "metadata": {
    "scrolled": true
   },
   "outputs": [
    {
     "data": {
      "image/png": "[encoded data removed]",
      "text/plain": [
       "<matplotlib.figure.Figure at 0x115594208>"
      ]
     },
     "metadata": {},
     "output_type": "display_data"
    }
   ],
   "source": [
    "plt.plot(xx,dhisty)\n",
    "plt.show()"
   ]
  }
 ],
 "metadata": {
  "kernelspec": {
   "display_name": "Python 3",
   "language": "python",
   "name": "python3"
  },
  "language_info": {
   "codemirror_mode": {
    "name": "ipython",
    "version": 3
   },
   "file_extension": ".py",
   "mimetype": "text/x-python",
   "name": "python",
   "nbconvert_exporter": "python",
   "pygments_lexer": "ipython3",
   "version": "3.6.1"
  }
 },
 "nbformat": 4,
 "nbformat_minor": 2
}
